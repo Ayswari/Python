{
 "cells": [
  {
   "cell_type": "code",
   "execution_count": 2,
   "id": "1555716c",
   "metadata": {},
   "outputs": [],
   "source": [
    "import pandas as pd"
   ]
  },
  {
   "cell_type": "code",
   "execution_count": 16,
   "id": "29d3add0",
   "metadata": {},
   "outputs": [
    {
     "name": "stdout",
     "output_type": "stream",
     "text": [
      "<class 'pandas.core.frame.DataFrame'>\n",
      "RangeIndex: 2000 entries, 0 to 1999\n",
      "Data columns (total 9 columns):\n",
      " #   Column        Non-Null Count  Dtype  \n",
      "---  ------        --------------  -----  \n",
      " 0   Rank          2000 non-null   int64  \n",
      " 1   Company       2000 non-null   object \n",
      " 2   Country       2000 non-null   object \n",
      " 3   Sales         2000 non-null   float64\n",
      " 4   Profits       2000 non-null   float64\n",
      " 5   Assets        2000 non-null   float64\n",
      " 6   Market Value  2000 non-null   float64\n",
      " 7   Sector        1803 non-null   object \n",
      " 8   Industry      1509 non-null   object \n",
      "dtypes: float64(4), int64(1), object(4)\n",
      "memory usage: 140.8+ KB\n"
     ]
    }
   ],
   "source": [
    "df = pd.read_excel('ForbesTop2000_2017.xlsx')\n",
    "df.info()"
   ]
  },
  {
   "cell_type": "code",
   "execution_count": 5,
   "id": "d0607591",
   "metadata": {},
   "outputs": [
    {
     "name": "stdout",
     "output_type": "stream",
     "text": [
      "<class 'pandas.core.frame.DataFrame'>\n",
      "RangeIndex: 1984 entries, 0 to 1983\n",
      "Data columns (total 7 columns):\n",
      " #   Column             Non-Null Count  Dtype  \n",
      "---  ------             --------------  -----  \n",
      " 0   Rank               1984 non-null   int64  \n",
      " 1   Company            1984 non-null   object \n",
      " 2   Sales($billion)    1984 non-null   float64\n",
      " 3   Profits($billion)  1984 non-null   float64\n",
      " 4   Assets             1984 non-null   float64\n",
      " 5   Market Value       1984 non-null   float64\n",
      " 6   Country            1984 non-null   object \n",
      "dtypes: float64(4), int64(1), object(2)\n",
      "memory usage: 108.6+ KB\n"
     ]
    }
   ],
   "source": [
    "df1 = pd.read_csv('forbes2013.csv', encoding = \"ISO-8859-1\")\n",
    "df1.info()"
   ]
  },
  {
   "cell_type": "code",
   "execution_count": 6,
   "id": "efcf9bc1",
   "metadata": {},
   "outputs": [
    {
     "name": "stdout",
     "output_type": "stream",
     "text": [
      "<class 'pandas.core.frame.DataFrame'>\n",
      "RangeIndex: 2000 entries, 0 to 1999\n",
      "Data columns (total 11 columns):\n",
      " #   Column          Non-Null Count  Dtype  \n",
      "---  ------          --------------  -----  \n",
      " 0   Company         2000 non-null   object \n",
      " 1   Sector          1954 non-null   object \n",
      " 2   Industry        1957 non-null   object \n",
      " 3   Continent       2000 non-null   object \n",
      " 4   Country         2000 non-null   object \n",
      " 5   Market Value    2000 non-null   float64\n",
      " 6   Sales           2000 non-null   float64\n",
      " 7   Profits         2000 non-null   float64\n",
      " 8   Assets          2000 non-null   float64\n",
      " 9   Rank            2000 non-null   int64  \n",
      " 10  Forbes Webpage  2000 non-null   object \n",
      "dtypes: float64(4), int64(1), object(6)\n",
      "memory usage: 172.0+ KB\n"
     ]
    }
   ],
   "source": [
    "df2 = pd.read_csv('forbes2015.csv', encoding = \"ISO-8859-1\")\n",
    "df2.info()"
   ]
  },
  {
   "cell_type": "code",
   "execution_count": null,
   "id": "520d2124",
   "metadata": {},
   "outputs": [],
   "source": []
  }
 ],
 "metadata": {
  "kernelspec": {
   "display_name": "Python 3 (ipykernel)",
   "language": "python",
   "name": "python3"
  },
  "language_info": {
   "codemirror_mode": {
    "name": "ipython",
    "version": 3
   },
   "file_extension": ".py",
   "mimetype": "text/x-python",
   "name": "python",
   "nbconvert_exporter": "python",
   "pygments_lexer": "ipython3",
   "version": "3.9.13"
  }
 },
 "nbformat": 4,
 "nbformat_minor": 5
}
