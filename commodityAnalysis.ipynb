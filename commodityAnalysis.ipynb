{
 "cells": [
  {
   "cell_type": "code",
   "execution_count": 146,
   "id": "93dae0a9",
   "metadata": {},
   "outputs": [
    {
     "name": "stdout",
     "output_type": "stream",
     "text": [
      "<class 'pandas.core.frame.DataFrame'>\n",
      "RangeIndex: 268 entries, 0 to 267\n",
      "Data columns (total 4 columns):\n",
      " #   Column       Non-Null Count  Dtype  \n",
      "---  ------       --------------  -----  \n",
      " 0   Commodities  268 non-null    object \n",
      " 1   Year         268 non-null    int64  \n",
      " 2   US Dollars   164 non-null    float64\n",
      " 3   Index        264 non-null    float64\n",
      "dtypes: float64(2), int64(1), object(1)\n",
      "memory usage: 8.5+ KB\n"
     ]
    }
   ],
   "source": [
    "import pandas as pd\n",
    "df= pd.read_excel('Primary_Commodity_Price_System_PCPS.xlsx')\n",
    "df.info()"
   ]
  },
  {
   "cell_type": "code",
   "execution_count": 136,
   "id": "d48ffab8",
   "metadata": {},
   "outputs": [
    {
     "name": "stdout",
     "output_type": "stream",
     "text": [
      "[2019 2020 2021 2022]\n"
     ]
    }
   ],
   "source": [
    "sortYear=df['Year'].unique()\n",
    "sortYear.sort()\n",
    "print(sortYear)"
   ]
  },
  {
   "cell_type": "code",
   "execution_count": 137,
   "id": "f5e5e370",
   "metadata": {},
   "outputs": [
    {
     "name": "stdout",
     "output_type": "stream",
     "text": [
      "['Agricultural raw materials' 'All commodities and Energy' 'Aluminum'\n",
      " 'Australian, export markets' 'Beverages' 'Cereals' 'Chromium' 'Coal'\n",
      " 'Cobalt' 'Cobalt ' 'Cocoa Beans' 'Coffee' 'Copper ' 'Cotton' 'Dubai'\n",
      " 'Energy' 'Energy Transition Metal Index' 'Fertilizer' 'Food'\n",
      " 'Food and Beverages' 'Hardwood' 'Hides' 'Indonesian in Japan'\n",
      " 'Industrial Inputs' 'Iron Ore' 'Lead' 'Lead ' 'Lithium' 'Manganese'\n",
      " 'Meat' 'Metals' 'Molybdenum' 'Natural Gas' 'Netherlands TFF' 'Nickel'\n",
      " 'Nickel ' 'Non-Fuel Commodities' 'Other Food' 'Other milds' 'Palladium'\n",
      " 'Platinum' 'Precious Metal' 'Propane' 'Rare Earth Elements' 'Robusta'\n",
      " 'Rubber' 'Seafood' 'Silicon' 'Silver' 'Softwood'\n",
      " 'South African, export markets' 'Spot Crude' 'Sugar' 'Tea' 'Timber' 'Tin'\n",
      " 'U.K. Brent' 'US, domestic market' 'Uranium' 'Vanadium'\n",
      " 'Vegetable oils and protein meals' 'West Texas Intermediate' 'Wool'\n",
      " 'Zinc']\n"
     ]
    }
   ],
   "source": [
    "sortCommodities=df['Commodities'].unique()\n",
    "sortCommodities.sort()\n",
    "print(sortCommodities)"
   ]
  },
  {
   "cell_type": "code",
   "execution_count": 158,
   "id": "85bc166a",
   "metadata": {},
   "outputs": [
    {
     "data": {
      "text/html": [
       "<div>\n",
       "<style scoped>\n",
       "    .dataframe tbody tr th:only-of-type {\n",
       "        vertical-align: middle;\n",
       "    }\n",
       "\n",
       "    .dataframe tbody tr th {\n",
       "        vertical-align: top;\n",
       "    }\n",
       "\n",
       "    .dataframe thead th {\n",
       "        text-align: right;\n",
       "    }\n",
       "</style>\n",
       "<table border=\"1\" class=\"dataframe\">\n",
       "  <thead>\n",
       "    <tr style=\"text-align: right;\">\n",
       "      <th></th>\n",
       "      <th>Commodities</th>\n",
       "      <th>Year</th>\n",
       "      <th>US Dollars</th>\n",
       "      <th>Index</th>\n",
       "    </tr>\n",
       "  </thead>\n",
       "  <tbody>\n",
       "    <tr>\n",
       "      <th>220</th>\n",
       "      <td>Vanadium</td>\n",
       "      <td>2019</td>\n",
       "      <td>29998.463878</td>\n",
       "      <td>383.099144</td>\n",
       "    </tr>\n",
       "    <tr>\n",
       "      <th>201</th>\n",
       "      <td>Palladium</td>\n",
       "      <td>2020</td>\n",
       "      <td>2192.673954</td>\n",
       "      <td>357.608664</td>\n",
       "    </tr>\n",
       "    <tr>\n",
       "      <th>202</th>\n",
       "      <td>Palladium</td>\n",
       "      <td>2021</td>\n",
       "      <td>2398.153222</td>\n",
       "      <td>391.120791</td>\n",
       "    </tr>\n",
       "    <tr>\n",
       "      <th>31</th>\n",
       "      <td>Netherlands TFF</td>\n",
       "      <td>2022</td>\n",
       "      <td>37.519835</td>\n",
       "      <td>861.864499</td>\n",
       "    </tr>\n",
       "  </tbody>\n",
       "</table>\n",
       "</div>"
      ],
      "text/plain": [
       "         Commodities  Year    US Dollars       Index\n",
       "220         Vanadium  2019  29998.463878  383.099144\n",
       "201        Palladium  2020   2192.673954  357.608664\n",
       "202        Palladium  2021   2398.153222  391.120791\n",
       "31   Netherlands TFF  2022     37.519835  861.864499"
      ]
     },
     "execution_count": 158,
     "metadata": {},
     "output_type": "execute_result"
    }
   ],
   "source": [
    "df.loc[df.groupby(\"Year\")[\"Index\"].idxmax()]"
   ]
  },
  {
   "cell_type": "code",
   "execution_count": 157,
   "id": "aa14ef73",
   "metadata": {},
   "outputs": [
    {
     "data": {
      "text/html": [
       "<div>\n",
       "<style scoped>\n",
       "    .dataframe tbody tr th:only-of-type {\n",
       "        vertical-align: middle;\n",
       "    }\n",
       "\n",
       "    .dataframe tbody tr th {\n",
       "        vertical-align: top;\n",
       "    }\n",
       "\n",
       "    .dataframe thead th {\n",
       "        text-align: right;\n",
       "    }\n",
       "</style>\n",
       "<table border=\"1\" class=\"dataframe\">\n",
       "  <thead>\n",
       "    <tr style=\"text-align: right;\">\n",
       "      <th></th>\n",
       "      <th>Commodities</th>\n",
       "      <th>Year</th>\n",
       "      <th>US Dollars</th>\n",
       "      <th>Index</th>\n",
       "    </tr>\n",
       "  </thead>\n",
       "  <tbody>\n",
       "    <tr>\n",
       "      <th>72</th>\n",
       "      <td>Hides</td>\n",
       "      <td>2019</td>\n",
       "      <td>40.807021</td>\n",
       "      <td>55.688495</td>\n",
       "    </tr>\n",
       "    <tr>\n",
       "      <th>73</th>\n",
       "      <td>Hides</td>\n",
       "      <td>2020</td>\n",
       "      <td>33.567213</td>\n",
       "      <td>45.808480</td>\n",
       "    </tr>\n",
       "    <tr>\n",
       "      <th>74</th>\n",
       "      <td>Hides</td>\n",
       "      <td>2021</td>\n",
       "      <td>47.418792</td>\n",
       "      <td>64.711442</td>\n",
       "    </tr>\n",
       "    <tr>\n",
       "      <th>75</th>\n",
       "      <td>Hides</td>\n",
       "      <td>2022</td>\n",
       "      <td>57.556472</td>\n",
       "      <td>78.546123</td>\n",
       "    </tr>\n",
       "  </tbody>\n",
       "</table>\n",
       "</div>"
      ],
      "text/plain": [
       "   Commodities  Year  US Dollars      Index\n",
       "72       Hides  2019   40.807021  55.688495\n",
       "73       Hides  2020   33.567213  45.808480\n",
       "74       Hides  2021   47.418792  64.711442\n",
       "75       Hides  2022   57.556472  78.546123"
      ]
     },
     "execution_count": 157,
     "metadata": {},
     "output_type": "execute_result"
    }
   ],
   "source": [
    "df.loc[df.groupby(\"Year\")[\"Index\"].idxmin()]"
   ]
  },
  {
   "cell_type": "code",
   "execution_count": 127,
   "id": "bf9472f7",
   "metadata": {},
   "outputs": [
    {
     "data": {
      "text/plain": [
       "Commodities\n",
       "Coal    223.311109\n",
       "Name: Index, dtype: float64"
      ]
     },
     "execution_count": 127,
     "metadata": {},
     "output_type": "execute_result"
    }
   ],
   "source": [
    "df.query(\"Commodities == 'Coal'\").groupby('Commodities')['Index'].mean()"
   ]
  },
  {
   "cell_type": "code",
   "execution_count": 128,
   "id": "328708da",
   "metadata": {},
   "outputs": [
    {
     "data": {
      "text/plain": [
       "Commodities\n",
       "Copper    155.770688\n",
       "Name: Index, dtype: float64"
      ]
     },
     "execution_count": 128,
     "metadata": {},
     "output_type": "execute_result"
    }
   ],
   "source": [
    "df.query(\"Commodities == 'Copper'\").groupby('Commodities')['Index'].mean()"
   ]
  },
  {
   "cell_type": "code",
   "execution_count": 129,
   "id": "292ffbfe",
   "metadata": {},
   "outputs": [
    {
     "data": {
      "text/plain": [
       "Commodities\n",
       "Rubber    111.615236\n",
       "Name: Index, dtype: float64"
      ]
     },
     "execution_count": 129,
     "metadata": {},
     "output_type": "execute_result"
    }
   ],
   "source": [
    "df.query(\"Commodities == 'Rubber'\").groupby('Commodities')['Index'].mean()"
   ]
  },
  {
   "cell_type": "code",
   "execution_count": 153,
   "id": "6660a0ba",
   "metadata": {},
   "outputs": [
    {
     "data": {
      "text/html": [
       "<div>\n",
       "<style scoped>\n",
       "    .dataframe tbody tr th:only-of-type {\n",
       "        vertical-align: middle;\n",
       "    }\n",
       "\n",
       "    .dataframe tbody tr th {\n",
       "        vertical-align: top;\n",
       "    }\n",
       "\n",
       "    .dataframe thead th {\n",
       "        text-align: right;\n",
       "    }\n",
       "</style>\n",
       "<table border=\"1\" class=\"dataframe\">\n",
       "  <thead>\n",
       "    <tr style=\"text-align: right;\">\n",
       "      <th></th>\n",
       "      <th>Commodities</th>\n",
       "      <th>Year</th>\n",
       "      <th>US Dollars</th>\n",
       "      <th>Index</th>\n",
       "    </tr>\n",
       "  </thead>\n",
       "  <tbody>\n",
       "    <tr>\n",
       "      <th>235</th>\n",
       "      <td>Other milds</td>\n",
       "      <td>2022</td>\n",
       "      <td>255.465902</td>\n",
       "      <td>155.924027</td>\n",
       "    </tr>\n",
       "  </tbody>\n",
       "</table>\n",
       "</div>"
      ],
      "text/plain": [
       "     Commodities  Year  US Dollars       Index\n",
       "235  Other milds  2022  255.465902  155.924027"
      ]
     },
     "execution_count": 153,
     "metadata": {},
     "output_type": "execute_result"
    }
   ],
   "source": [
    "df.query(\"(Commodities == 'Robusta' | Commodities == 'Other milds') & Year == 2022\").nlargest(1,'Index')"
   ]
  },
  {
   "cell_type": "code",
   "execution_count": 156,
   "id": "bf0afc0b",
   "metadata": {},
   "outputs": [
    {
     "data": {
      "text/html": [
       "<div>\n",
       "<style scoped>\n",
       "    .dataframe tbody tr th:only-of-type {\n",
       "        vertical-align: middle;\n",
       "    }\n",
       "\n",
       "    .dataframe tbody tr th {\n",
       "        vertical-align: top;\n",
       "    }\n",
       "\n",
       "    .dataframe thead th {\n",
       "        text-align: right;\n",
       "    }\n",
       "</style>\n",
       "<table border=\"1\" class=\"dataframe\">\n",
       "  <thead>\n",
       "    <tr style=\"text-align: right;\">\n",
       "      <th></th>\n",
       "      <th>Commodities</th>\n",
       "      <th>Year</th>\n",
       "      <th>US Dollars</th>\n",
       "      <th>Index</th>\n",
       "    </tr>\n",
       "  </thead>\n",
       "  <tbody>\n",
       "    <tr>\n",
       "      <th>43</th>\n",
       "      <td>Dubai</td>\n",
       "      <td>2022</td>\n",
       "      <td>95.288669</td>\n",
       "      <td>229.777507</td>\n",
       "    </tr>\n",
       "  </tbody>\n",
       "</table>\n",
       "</div>"
      ],
      "text/plain": [
       "   Commodities  Year  US Dollars       Index\n",
       "43       Dubai  2022   95.288669  229.777507"
      ]
     },
     "execution_count": 156,
     "metadata": {},
     "output_type": "execute_result"
    }
   ],
   "source": [
    "df.query(\"(Commodities == 'Dubai' | Commodities == 'U.K. Brent' | Commodities == 'West Texas Intermediate') & Year == 2022\").nlargest(1,'Index')"
   ]
  },
  {
   "cell_type": "code",
   "execution_count": 159,
   "id": "e657bf2b",
   "metadata": {},
   "outputs": [
    {
     "name": "stdout",
     "output_type": "stream",
     "text": [
      "Top Commodities \n"
     ]
    },
    {
     "data": {
      "text/html": [
       "<div>\n",
       "<style scoped>\n",
       "    .dataframe tbody tr th:only-of-type {\n",
       "        vertical-align: middle;\n",
       "    }\n",
       "\n",
       "    .dataframe tbody tr th {\n",
       "        vertical-align: top;\n",
       "    }\n",
       "\n",
       "    .dataframe thead th {\n",
       "        text-align: right;\n",
       "    }\n",
       "</style>\n",
       "<table border=\"1\" class=\"dataframe\">\n",
       "  <thead>\n",
       "    <tr style=\"text-align: right;\">\n",
       "      <th></th>\n",
       "      <th>Commodities</th>\n",
       "      <th>Index</th>\n",
       "      <th>Year</th>\n",
       "    </tr>\n",
       "  </thead>\n",
       "  <tbody>\n",
       "    <tr>\n",
       "      <th>31</th>\n",
       "      <td>Netherlands TFF</td>\n",
       "      <td>861.864499</td>\n",
       "      <td>2022</td>\n",
       "    </tr>\n",
       "    <tr>\n",
       "      <th>15</th>\n",
       "      <td>Australian, export markets</td>\n",
       "      <td>548.173275</td>\n",
       "      <td>2022</td>\n",
       "    </tr>\n",
       "    <tr>\n",
       "      <th>23</th>\n",
       "      <td>Natural Gas</td>\n",
       "      <td>521.578517</td>\n",
       "      <td>2022</td>\n",
       "    </tr>\n",
       "    <tr>\n",
       "      <th>11</th>\n",
       "      <td>Coal</td>\n",
       "      <td>484.504479</td>\n",
       "      <td>2022</td>\n",
       "    </tr>\n",
       "    <tr>\n",
       "      <th>27</th>\n",
       "      <td>Indonesian in Japan</td>\n",
       "      <td>447.590755</td>\n",
       "      <td>2022</td>\n",
       "    </tr>\n",
       "    <tr>\n",
       "      <th>187</th>\n",
       "      <td>Lithium</td>\n",
       "      <td>426.521767</td>\n",
       "      <td>2022</td>\n",
       "    </tr>\n",
       "    <tr>\n",
       "      <th>19</th>\n",
       "      <td>South African, export markets</td>\n",
       "      <td>420.835684</td>\n",
       "      <td>2022</td>\n",
       "    </tr>\n",
       "    <tr>\n",
       "      <th>202</th>\n",
       "      <td>Palladium</td>\n",
       "      <td>391.120791</td>\n",
       "      <td>2021</td>\n",
       "    </tr>\n",
       "    <tr>\n",
       "      <th>220</th>\n",
       "      <td>Vanadium</td>\n",
       "      <td>383.099144</td>\n",
       "      <td>2019</td>\n",
       "    </tr>\n",
       "    <tr>\n",
       "      <th>30</th>\n",
       "      <td>Netherlands TFF</td>\n",
       "      <td>365.406510</td>\n",
       "      <td>2021</td>\n",
       "    </tr>\n",
       "  </tbody>\n",
       "</table>\n",
       "</div>"
      ],
      "text/plain": [
       "                       Commodities       Index  Year\n",
       "31                 Netherlands TFF  861.864499  2022\n",
       "15      Australian, export markets  548.173275  2022\n",
       "23                     Natural Gas  521.578517  2022\n",
       "11                            Coal  484.504479  2022\n",
       "27             Indonesian in Japan  447.590755  2022\n",
       "187                        Lithium  426.521767  2022\n",
       "19   South African, export markets  420.835684  2022\n",
       "202                      Palladium  391.120791  2021\n",
       "220                       Vanadium  383.099144  2019\n",
       "30                 Netherlands TFF  365.406510  2021"
      ]
     },
     "metadata": {},
     "output_type": "display_data"
    }
   ],
   "source": [
    "print(\"Top Commodities \")\n",
    "df_Comm=df.nlargest(10, 'Index')\n",
    "display(df_Comm[[\"Commodities\",\"Index\",'Year']])"
   ]
  },
  {
   "cell_type": "code",
   "execution_count": null,
   "id": "de80ff10",
   "metadata": {},
   "outputs": [],
   "source": []
  }
 ],
 "metadata": {
  "kernelspec": {
   "display_name": "Python 3 (ipykernel)",
   "language": "python",
   "name": "python3"
  },
  "language_info": {
   "codemirror_mode": {
    "name": "ipython",
    "version": 3
   },
   "file_extension": ".py",
   "mimetype": "text/x-python",
   "name": "python",
   "nbconvert_exporter": "python",
   "pygments_lexer": "ipython3",
   "version": "3.9.13"
  }
 },
 "nbformat": 4,
 "nbformat_minor": 5
}
